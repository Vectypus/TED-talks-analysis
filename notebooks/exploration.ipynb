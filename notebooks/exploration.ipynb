{
 "cells": [
  {
   "cell_type": "code",
   "execution_count": null,
   "metadata": {},
   "outputs": [],
   "source": [
    "import numpy as np\n",
    "import pandas as pd\n",
    "import seaborn as sns\n",
    "from matplotlib import pyplot as plt\n",
    "from ast import literal_eval"
   ]
  },
  {
   "cell_type": "code",
   "execution_count": null,
   "metadata": {},
   "outputs": [],
   "source": [
    "save = False\n",
    "\n",
    "if save:\n",
    "    sns.set(font_scale=1.8)\n"
   ]
  },
  {
   "cell_type": "code",
   "execution_count": null,
   "metadata": {
    "scrolled": true
   },
   "outputs": [],
   "source": [
    "ted_talks = pd.read_csv(\"../data/ted_talks_selected.csv\")\n",
    "ted_talks"
   ]
  },
  {
   "cell_type": "code",
   "execution_count": null,
   "metadata": {},
   "outputs": [],
   "source": [
    "ted_talks.describe()"
   ]
  },
  {
   "cell_type": "markdown",
   "metadata": {},
   "source": [
    "# Les plus vus"
   ]
  },
  {
   "cell_type": "code",
   "execution_count": null,
   "metadata": {},
   "outputs": [],
   "source": [
    "most_viewed = ted_talks[[\"title\", \"views\"]].sort_values(by='views', ascending=False).head(10).reset_index(drop=True)\n",
    "most_viewed"
   ]
  },
  {
   "cell_type": "code",
   "execution_count": null,
   "metadata": {},
   "outputs": [],
   "source": [
    "plt.figure(figsize=(10, 6))\n",
    "\n",
    "sns.barplot(x=list(range(10)), y=most_viewed.views)\n",
    "plt.title(\"Les 10 conférences les plus vues\")\n",
    "plt.xlabel(\"Conférence\")\n",
    "plt.ylabel(\"Nombre de vues\")\n",
    "if save: plt.savefig(\"../data/graphs/most_viewed.png\")\n",
    "plt.show()"
   ]
  },
  {
   "cell_type": "markdown",
   "metadata": {},
   "source": [
    "# Durées"
   ]
  },
  {
   "cell_type": "code",
   "execution_count": null,
   "metadata": {},
   "outputs": [],
   "source": [
    "plt.figure(figsize=(10, 6))\n",
    "\n",
    "sns.histplot(ted_talks.duration / 60)\n",
    "plt.title(\"Durée des conférences en minutes\")\n",
    "plt.xlabel(\"Durée (minutes)\")\n",
    "plt.ylabel(\"Nombre de conférences\")\n",
    "if save: plt.savefig(\"../data/graphs/duration.png\")\n",
    "plt.show()"
   ]
  },
  {
   "cell_type": "markdown",
   "metadata": {},
   "source": [
    "# Corrélations"
   ]
  },
  {
   "cell_type": "code",
   "execution_count": null,
   "metadata": {},
   "outputs": [],
   "source": [
    "plt.figure(figsize=(8, 6))\n",
    "\n",
    "sns.heatmap(ted_talks.drop(\"talk_id\", axis=1).corr(), mask=np.eye(3), annot=True, cmap=\"RdBu\", center=0)\n",
    "plt.title(\"Corrélations entre les variables numériques\")\n",
    "if save: plt.savefig(\"../data/graphs/correlations.png\")\n",
    "plt.show()"
   ]
  },
  {
   "cell_type": "code",
   "execution_count": null,
   "metadata": {},
   "outputs": [],
   "source": [
    "plt.figure(figsize=(10, 6))\n",
    "\n",
    "sns.scatterplot(x=ted_talks.views, y=ted_talks.comments)\n",
    "plt.title(\"Nombre de commentaires selon le nombre de vues\")\n",
    "plt.xlabel(\"Nombre de vues\")\n",
    "plt.ylabel(\"Nombre de commentaires\")\n",
    "if save: plt.savefig(\"../data/graphs/comments_views.png\")\n",
    "plt.show()"
   ]
  },
  {
   "cell_type": "markdown",
   "metadata": {},
   "source": [
    "# Thèmes à débat"
   ]
  },
  {
   "cell_type": "code",
   "execution_count": null,
   "metadata": {},
   "outputs": [],
   "source": [
    "ted_talks[\"comment_rate\"] = ted_talks.comments / ted_talks.views * 1e6"
   ]
  },
  {
   "cell_type": "code",
   "execution_count": null,
   "metadata": {},
   "outputs": [],
   "source": [
    "plt.figure(figsize=(10, 6))\n",
    "\n",
    "sns.histplot(ted_talks[\"comment_rate\"])\n",
    "plt.title(\"Ratio commentaires / vues\")\n",
    "plt.xlabel(\"Ratio\")\n",
    "plt.ylabel(\"Compte\")\n",
    "if save: plt.savefig(\"../data/graphs/comment_rate.png\")\n",
    "plt.show()"
   ]
  },
  {
   "cell_type": "code",
   "execution_count": null,
   "metadata": {},
   "outputs": [],
   "source": [
    "most_commented_topics = ted_talks.sort_values(by=\"comment_rate\", ascending=False).topics.head(100)\n",
    "\n",
    "most_commented_topics = most_commented_topics.apply(lambda x: literal_eval(x)).explode().value_counts()\n",
    "\n",
    "most_commented_topics = most_commented_topics[most_commented_topics > 10]"
   ]
  },
  {
   "cell_type": "code",
   "execution_count": null,
   "metadata": {},
   "outputs": [],
   "source": [
    "plt.figure(figsize=(10, 6))\n",
    "\n",
    "sns.barplot(x=most_commented_topics, y=most_commented_topics.index)\n",
    "plt.title(\"Thèmes les plus débattus\")\n",
    "plt.xlabel(\"Nombre d'apparitions du thème dans les 100 conférences les plus débattues\")\n",
    "if save: plt.savefig(\"../data/graphs/debated_topics.png\")\n",
    "plt.show()"
   ]
  },
  {
   "cell_type": "markdown",
   "metadata": {},
   "source": [
    "# Thèmes les plus vus"
   ]
  },
  {
   "cell_type": "code",
   "execution_count": null,
   "metadata": {},
   "outputs": [],
   "source": [
    "most_viewed_topics = ted_talks.sort_values(by=\"views\", ascending=False).topics.head(100)\n",
    "\n",
    "most_viewed_topics = most_viewed_topics.apply(lambda x: literal_eval(x)).explode().value_counts()\n",
    "\n",
    "most_viewed_topics = most_viewed_topics[most_viewed_topics > 10]"
   ]
  },
  {
   "cell_type": "code",
   "execution_count": null,
   "metadata": {},
   "outputs": [],
   "source": [
    "plt.figure(figsize=(10, 6))\n",
    "\n",
    "sns.barplot(x=most_commented_topics, y=most_commented_topics.index)\n",
    "plt.title(\"Thèmes les plus vus\")\n",
    "plt.xlabel(\"Nombre d'apparitions du thème dans les 100 conférences les plus vues\")\n",
    "if save: plt.savefig(\"../data/graphs/viewed_topics.png\")\n",
    "plt.show()"
   ]
  },
  {
   "cell_type": "markdown",
   "metadata": {},
   "source": [
    "# Orateurs"
   ]
  },
  {
   "cell_type": "code",
   "execution_count": null,
   "metadata": {},
   "outputs": [],
   "source": [
    "plt.figure(figsize=(10, 6))\n",
    "\n",
    "frequent_speakers = ted_talks.speaker_1.value_counts().head(10)\n",
    "\n",
    "sns.barplot(x=frequent_speakers, y=frequent_speakers.index)\n",
    "plt.title(\"Orateurs les plus actifs\")\n",
    "plt.xlabel(\"Nombre de conférences réalisées\")\n",
    "if save: plt.savefig(\"../data/graphs/speakers.png\")\n",
    "plt.show()"
   ]
  },
  {
   "cell_type": "code",
   "execution_count": null,
   "metadata": {},
   "outputs": [],
   "source": [
    "most_common_occupations = ted_talks.occupations.apply(lambda x: literal_eval(x)[0] if pd.notna(x) else x).explode().value_counts()[1:].head(10)\n",
    "\n",
    "plt.figure(figsize=(10, 6))\n",
    "\n",
    "sns.barplot(x=most_common_occupations, y=most_common_occupations.index)\n",
    "plt.title(\"Métiers les plus fréquents\")\n",
    "plt.xlabel(\"Nombre d'apparitions du métier dans les conférences\")\n",
    "if save: plt.savefig(\"../data/graphs/frequent_occupations.png\")\n",
    "plt.show()"
   ]
  },
  {
   "cell_type": "code",
   "execution_count": null,
   "metadata": {},
   "outputs": [],
   "source": [
    "ted_talks.recorded_date = ted_talks.apply(lambda x: x.recorded_date if pd.notnull(x.recorded_date) else x.published_date, axis=1)\n",
    "ted_talks.recorded_date = pd.to_datetime(ted_talks.recorded_date)\n",
    "\n",
    "talks_by_year = ted_talks.recorded_date.dt.year.value_counts()\n",
    "# talks_by_year = talks_by_year[talks_by_year.index < 2020]\n",
    "\n",
    "plt.figure(figsize=(10, 6))\n",
    "\n",
    "sns.lineplot(x=talks_by_year.index, y=talks_by_year)\n",
    "plt.title(\"Évolution du nombre de conférences dans le temps\")\n",
    "plt.xlabel(\"Années\")\n",
    "plt.ylabel(\"Nombre de conférences annuelles\")\n",
    "if save: plt.savefig(\"../data/graphs/talks_evolution.png\")\n",
    "plt.show()"
   ]
  },
  {
   "cell_type": "code",
   "execution_count": null,
   "metadata": {},
   "outputs": [],
   "source": [
    "talks_by_month = ted_talks.recorded_date.dt.month.value_counts().sort_index()\n",
    "months = [\"Janvier\", \"Février\", \"Mars\", \"Avril\", \"Mai\", \"Juin\", \"Juillet\", \"Août\", \"Septembre\", \"Octobre\", \"Novembre\", \"Décembre\"]\n",
    "\n",
    "plt.figure(figsize=(12, 8))\n",
    "\n",
    "sns.barplot(x=months, y=talks_by_month)\n",
    "plt.xticks(rotation=45)\n",
    "plt.title(\"Distribution des conférences au cours des mois\")\n",
    "plt.xlabel(\"Mois de l'année\")\n",
    "plt.ylabel(\"Nombre de conférences mensuelles\")\n",
    "if save: plt.savefig(\"../data/graphs/months_talks.png\")\n",
    "plt.show()"
   ]
  },
  {
   "cell_type": "code",
   "execution_count": null,
   "metadata": {},
   "outputs": [],
   "source": [
    "ted_talks[\"recorded_month\"] = ted_talks.recorded_date.dt.month\n",
    "\n",
    "views_by_months = ted_talks.groupby(\"recorded_month\").sum()[\"views\"]\n",
    "\n",
    "plt.figure(figsize=(12, 8))\n",
    "\n",
    "sns.barplot(x=months, y=views_by_months)\n",
    "plt.xticks(rotation=45)\n",
    "plt.title(\"Nombre de vues selon le mois de l'année\")\n",
    "plt.xlabel(\"Mois de l'année\")\n",
    "plt.ylabel(\"Nombre de vues\")\n",
    "if save: plt.savefig(\"../data/graphs/months_views.png\")\n",
    "plt.show()"
   ]
  },
  {
   "cell_type": "code",
   "execution_count": null,
   "metadata": {},
   "outputs": [],
   "source": [
    "talks_by_year_month = ted_talks.groupby(pd.Grouper(key=\"recorded_date\", freq=\"M\")).count()[\"talk_id\"]\n",
    "talks_by_year_month = talks_by_year_month[talks_by_year_month.index.year > 1996]\n",
    "talks_by_year_month"
   ]
  },
  {
   "cell_type": "code",
   "execution_count": null,
   "metadata": {},
   "outputs": [],
   "source": [
    "years = talks_by_year_month.index.year.unique()\n",
    "\n",
    "df_year_month = []\n",
    "\n",
    "for year in years:\n",
    "    to_append = list(talks_by_year_month[talks_by_year_month.index.year == year])\n",
    "    if year == 1984:\n",
    "        to_append = [0] + to_append\n",
    "    df_year_month.append(to_append)\n",
    "\n",
    "df_year_month = pd.DataFrame(df_year_month, columns=months)\n",
    "df_year_month.index = years\n",
    "df_year_month.fillna(0, inplace=True)"
   ]
  },
  {
   "cell_type": "code",
   "execution_count": null,
   "metadata": {},
   "outputs": [],
   "source": [
    "plt.figure(figsize=(10, 8))\n",
    "\n",
    "sns.heatmap(pd.DataFrame(df_year_month), cmap=\"RdBu\", center=0)\n",
    "plt.title(\"Évolution du nombre de conférences au cours des mois\")\n",
    "plt.xlabel(\"Mois de l'année\")\n",
    "plt.ylabel(\"Années\")\n",
    "if save: plt.savefig(\"../data/graphs/year_month_evolution.png\")\n",
    "plt.show()"
   ]
  },
  {
   "cell_type": "markdown",
   "metadata": {},
   "source": [
    "# Boxplots"
   ]
  },
  {
   "cell_type": "code",
   "execution_count": null,
   "metadata": {},
   "outputs": [],
   "source": [
    "sns.boxplot(x=ted_talks.views)\n",
    "plt.show()"
   ]
  },
  {
   "cell_type": "code",
   "execution_count": null,
   "metadata": {},
   "outputs": [],
   "source": [
    "sns.boxplot(x=ted_talks.duration / 60)\n",
    "plt.show()"
   ]
  },
  {
   "cell_type": "code",
   "execution_count": null,
   "metadata": {},
   "outputs": [],
   "source": [
    "sns.boxplot(x=ted_talks.comments)\n",
    "plt.show()"
   ]
  },
  {
   "cell_type": "markdown",
   "metadata": {},
   "source": [
    "# Thèmes"
   ]
  },
  {
   "cell_type": "code",
   "execution_count": null,
   "metadata": {},
   "outputs": [],
   "source": [
    "# Source : https://towardsdatascience.com/dealing-with-list-values-in-pandas-dataframes-a177e534f173\n",
    "def boolean_df(item_lists, unique_items):\n",
    "    # Create empty dict\n",
    "    bool_dict = {}\n",
    "    \n",
    "    # Loop through all the tags\n",
    "    for i, item in enumerate(unique_items):\n",
    "        \n",
    "        # Apply boolean mask\n",
    "        bool_dict[item] = item_lists.apply(lambda x: item in x)\n",
    "            \n",
    "    # Return the results as a dataframe\n",
    "    return pd.DataFrame(bool_dict)"
   ]
  },
  {
   "cell_type": "code",
   "execution_count": null,
   "metadata": {},
   "outputs": [],
   "source": [
    "def evaluate(x):\n",
    "    if pd.isna(x):\n",
    "        return x\n",
    "    return literal_eval(x)\n",
    "\n",
    "ted_talks.topics = ted_talks.topics.apply(evaluate)"
   ]
  },
  {
   "cell_type": "code",
   "execution_count": null,
   "metadata": {},
   "outputs": [],
   "source": [
    "one_hot_topics = boolean_df(ted_talks.topics, ted_talks.topics.explode().unique())\n",
    "one_hot_topics[\"year\"] = ted_talks.recorded_date.dt.year\n",
    "one_hot_topics"
   ]
  },
  {
   "cell_type": "code",
   "execution_count": null,
   "metadata": {},
   "outputs": [],
   "source": [
    "most_talked_ted = ted_talks.topics.explode().value_counts().head(12).index\n",
    "most_talked = most_talked_ted.drop([\"TED-Ed\", \"TEDx\"])\n",
    "most_talked"
   ]
  },
  {
   "cell_type": "code",
   "execution_count": null,
   "metadata": {},
   "outputs": [],
   "source": [
    "top_topics_by_year = one_hot_topics.groupby(\"year\").sum()[most_talked]\n",
    "top_topics_by_year = top_topics_by_year[(top_topics_by_year.index >= 2010) & (top_topics_by_year.index != 2020)]\n",
    "top_topics_by_year.index = pd.to_datetime(top_topics_by_year.index, format=\"%Y\")\n",
    "top_topics_by_year"
   ]
  },
  {
   "cell_type": "code",
   "execution_count": null,
   "metadata": {},
   "outputs": [],
   "source": [
    "plt.figure(figsize=(12, 8))\n",
    "plt.plot(top_topics_by_year)\n",
    "plt.title(\"Evolution de la popularité des thèmes en fonction des années\")\n",
    "plt.xlabel(\"Année\")\n",
    "plt.xticks(rotation=45)\n",
    "plt.ylabel(\"Nombre de conférences\")\n",
    "plt.legend(top_topics_by_year.columns,fontsize = 19, ncol = 2) \n",
    "if save: plt.savefig(\"../data/graphs/topics_evolution.png\")\n",
    "plt.plot()"
   ]
  },
  {
   "cell_type": "code",
   "execution_count": null,
   "metadata": {},
   "outputs": [],
   "source": [
    "plt.figure(figsize=(12,8))\n",
    "sns.heatmap(one_hot_topics[most_talked].corr(),\n",
    "            mask=np.tril(np.ones((10,10))).T, cmap=\"RdBu\", center=0, annot=True)\n",
    "plt.title(\"Corrélation entre les thèmes\")\n",
    "if save: plt.savefig(\"../data/graphs/topics_correlation.png\")\n",
    "plt.show()"
   ]
  },
  {
   "cell_type": "markdown",
   "metadata": {},
   "source": [
    "## Nombres de métiers représentés dans les thèmes les plus populaires"
   ]
  },
  {
   "cell_type": "code",
   "execution_count": 35,
   "metadata": {},
   "outputs": [
    {
     "data": {
      "image/png": "[encoded data removed]",
      "text/plain": [
       "<Figure size 864x576 with 1 Axes>"
      ]
     },
     "metadata": {
      "needs_background": "light"
     },
     "output_type": "display_data"
    }
   ],
   "source": [
    "index_popular_topic = top_topics_by_year.columns\n",
    "index_popular_topic\n",
    "\n",
    "df_pop_occ = ted_talks[[\"occupations\", \"topics\"]]\n",
    "\n",
    "col1 = df_pop_occ.occupations.apply(lambda x : literal_eval(x)[0] if pd.notnull(x) else x ).dropna().explode()\n",
    "\n",
    "df_pop_occ = df_pop_occ.copy().iloc[col1.index]\n",
    "\n",
    "df_pop_occ[\"occ0\"] = col1.values\n",
    "\n",
    "df_pop_occ.drop(\"occupations\", axis = 1, inplace = True)\n",
    "\n",
    "col2 = df_pop_occ.topics.dropna().explode()\n",
    "\n",
    "df_pop_occ = df_pop_occ.copy().iloc[col2.index]\n",
    "\n",
    "df_pop_occ[\"top\"] = col2.values\n",
    "\n",
    "df_pop_occ.drop(\"topics\", axis = 1, inplace = True)\n",
    "\n",
    "df_pop_occ.drop_duplicates(inplace = True)\n",
    "\n",
    "df_pop_occ_counted = df_pop_occ.groupby(\"top\").count().loc[index_popular_topic]\n",
    "\n",
    "df_pop_occ_counted.sort_values(by = \"occ0\", ascending = False, inplace = True)\n",
    "\n",
    "df_pop_occ_counted\n",
    "\n",
    "plt.figure(figsize=(15, 10))\n",
    "\n",
    "sns.barplot(x = df_pop_occ_counted.index, y=df_pop_occ_counted.values.reshape(1,-1)[0], linewidth=2.5)\n",
    "plt.title(\"Nombre de métiers différents pour les thèmes les plus représentés\", fontsize=15)\n",
    "plt.xlabel(\"Thèmes\", fontsize=15)\n",
    "plt.ylabel(\"Nombre de métiers différents\", fontsize=15)\n",
    "plt.show()"
   ]
  },
  {
   "cell_type": "code",
   "execution_count": null,
   "metadata": {},
   "outputs": [],
   "source": []
  }
 ],
 "metadata": {
  "interpreter": {
   "hash": "08a9ee97743bb653a404af1b6226ec1624b1b637fec457561ab3513b491b6cab"
  },
  "kernelspec": {
   "display_name": "Python 3.9",
   "language": "python",
   "name": "python3.9"
  },
  "language_info": {
   "codemirror_mode": {
    "name": "ipython",
    "version": 3
   },
   "file_extension": ".py",
   "mimetype": "text/x-python",
   "name": "python",
   "nbconvert_exporter": "python",
   "pygments_lexer": "ipython3",
   "version": "3.10.2"
  }
 },
 "nbformat": 4,
 "nbformat_minor": 4
}
