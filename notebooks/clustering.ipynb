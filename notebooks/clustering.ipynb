{
 "cells": [
  {
   "cell_type": "code",
   "execution_count": 1,
   "id": "7e558a58-d034-4f0c-984f-c80176c54875",
   "metadata": {},
   "outputs": [],
   "source": [
    "import numpy as np\n",
    "from sklearn.cluster import KMeans, AgglomerativeClustering\n",
    "from sklearn.metrics import rand_score, silhouette_score\n",
    "import matplotlib.pyplot as plt\n",
    "from tqdm import tqdm"
   ]
  },
  {
   "cell_type": "code",
   "execution_count": 2,
   "id": "d780a71d-c6b4-4c74-a683-9330e2d8d8b3",
   "metadata": {},
   "outputs": [],
   "source": [
    "embeddings = np.load(\"../data/desc_embeddings.npy\")"
   ]
  },
  {
   "cell_type": "code",
   "execution_count": 3,
   "id": "99ce44a6-5616-436e-b448-dd49b701ddef",
   "metadata": {},
   "outputs": [
    {
     "data": {
      "text/plain": [
       "(3957, 768)"
      ]
     },
     "execution_count": 3,
     "metadata": {},
     "output_type": "execute_result"
    }
   ],
   "source": [
    "embeddings.shape"
   ]
  },
  {
   "cell_type": "code",
   "execution_count": 4,
   "id": "969a71e9-6aae-4181-9f2d-74d5abf991ba",
   "metadata": {},
   "outputs": [
    {
     "data": {
      "text/plain": [
       "array([0, 4, 4, ..., 7, 3, 6], dtype=int32)"
      ]
     },
     "execution_count": 4,
     "metadata": {},
     "output_type": "execute_result"
    }
   ],
   "source": [
    "kmeans = KMeans(n_clusters=8).fit(embeddings)\n",
    "kmeans.labels_"
   ]
  },
  {
   "cell_type": "code",
   "execution_count": 5,
   "id": "05bd60c7-a370-4cd1-abb6-2a547c85b7bc",
   "metadata": {},
   "outputs": [
    {
     "data": {
      "text/plain": [
       "array([1, 0, 0, ..., 3, 4, 2])"
      ]
     },
     "execution_count": 5,
     "metadata": {},
     "output_type": "execute_result"
    }
   ],
   "source": [
    "agglo = AgglomerativeClustering(n_clusters=8).fit(embeddings)\n",
    "agglo.labels_"
   ]
  },
  {
   "cell_type": "code",
   "execution_count": 6,
   "id": "65617a2d-31fb-4533-9355-9425a3718977",
   "metadata": {},
   "outputs": [
    {
     "data": {
      "text/plain": [
       "0.7999846939023215"
      ]
     },
     "execution_count": 6,
     "metadata": {},
     "output_type": "execute_result"
    }
   ],
   "source": [
    "rand_score(kmeans.labels_, agglo.labels_)"
   ]
  },
  {
   "cell_type": "code",
   "execution_count": 7,
   "id": "16781032-3d75-406d-8b60-32e5ef00f2bb",
   "metadata": {},
   "outputs": [
    {
     "name": "stderr",
     "output_type": "stream",
     "text": [
      "100%|███████████████████████████████████████████| 18/18 [01:02<00:00,  3.46s/it]\n"
     ]
    }
   ],
   "source": [
    "# Change distance measure\n",
    "kmeans_scores = []\n",
    "agglo_scores = []\n",
    "for k in tqdm(range(2, 20)):\n",
    "    # kmeans = KMeans(n_clusters=k).fit(embeddings)\n",
    "    agglo = AgglomerativeClustering(n_clusters=k, affinity=\"cosine\", linkage=\"average\").fit(embeddings)\n",
    "    \n",
    "    # kmeans_scores.append(silhouette_score(embeddings, kmeans.labels_))\n",
    "    agglo_scores.append(silhouette_score(embeddings, agglo.labels_, metric=\"cosine\"))"
   ]
  },
  {
   "cell_type": "code",
   "execution_count": 8,
   "id": "09c05f40-a10d-4ded-9c00-d78e89faf6be",
   "metadata": {},
   "outputs": [
    {
     "data": {
      "image/png": "[encoded data removed]",
      "text/plain": [
       "<Figure size 432x288 with 1 Axes>"
      ]
     },
     "metadata": {
      "needs_background": "light"
     },
     "output_type": "display_data"
    }
   ],
   "source": [
    "plt.plot(range(2, 20), agglo_scores)\n",
    "plt.show()"
   ]
  },
  {
   "cell_type": "code",
   "execution_count": null,
   "id": "2c879a79-1ee3-4f02-a863-452b454123e9",
   "metadata": {},
   "outputs": [],
   "source": []
  }
 ],
 "metadata": {
  "kernelspec": {
   "display_name": "Python 3 (ipykernel)",
   "language": "python",
   "name": "python3"
  },
  "language_info": {
   "codemirror_mode": {
    "name": "ipython",
    "version": 3
   },
   "file_extension": ".py",
   "mimetype": "text/x-python",
   "name": "python",
   "nbconvert_exporter": "python",
   "pygments_lexer": "ipython3",
   "version": "3.10.2"
  }
 },
 "nbformat": 4,
 "nbformat_minor": 5
}
